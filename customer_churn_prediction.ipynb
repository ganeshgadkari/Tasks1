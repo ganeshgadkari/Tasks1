{
 "cells": [
  {
   "cell_type": "code",
   "execution_count": 12,
   "id": "2962b667",
   "metadata": {},
   "outputs": [],
   "source": [
    "import pandas as pd\n",
    "from sklearn.model_selection import train_test_split\n",
    "from sklearn.preprocessing import StandardScaler, LabelEncoder\n",
    "from sklearn.ensemble import RandomForestClassifier\n",
    "from sklearn.metrics import classification_report\n",
    "from sklearn.metrics import confusion_matrix\n",
    "from skopt import BayesSearchCV\n",
    "from skopt.space import Real, Integer\n",
    "import numpy as np\n",
    "import matplotlib.pyplot as plt\n",
    "import seaborn as sns\n",
    "from flask import Flask, request, jsonify"
   ]
  },
  {
   "cell_type": "code",
   "execution_count": 3,
   "id": "25d09209",
   "metadata": {},
   "outputs": [],
   "source": [
    "# Data Preprocessing\n",
    "dataset_path = 'C:/Users/admin/Task1/customer_churn_large_dataset.xlsx'\n",
    "data = pd.read_excel(dataset_path)\n",
    "data = data.drop(['CustomerID', 'Name', 'Location'], axis=1)\n",
    "label_encoder = LabelEncoder()\n",
    "data['Gender'] = label_encoder.fit_transform(data['Gender'])\n",
    "X = data.drop('Churn', axis=1)\n",
    "y = data['Churn']\n",
    "X_train, X_test, y_train, y_test = train_test_split(X, y, test_size=0.2, random_state=42)\n",
    "scaler = StandardScaler()\n",
    "X_train_scaled = scaler.fit_transform(X_train)\n",
    "X_test_scaled = scaler.transform(X_test)"
   ]
  },
  {
   "cell_type": "code",
   "execution_count": 4,
   "id": "33377680",
   "metadata": {},
   "outputs": [],
   "source": [
    "# Downsampling the data\n",
    "# Choosing a subset of the data for hyperparameter tuning\n",
    "subset_size = 5000\n",
    "X_train_subset = X_train_scaled[:subset_size]\n",
    "y_train_subset = y_train[:subset_size]"
   ]
  },
  {
   "cell_type": "code",
   "execution_count": 5,
   "id": "49956e5d",
   "metadata": {},
   "outputs": [],
   "source": [
    "# Define the search space for Bayesian Optimization\n",
    "param_space = {\n",
    "    'n_estimators': Integer(100, 300),\n",
    "    'max_depth': Integer(1, 20),\n",
    "}"
   ]
  },
  {
   "cell_type": "code",
   "execution_count": 6,
   "id": "8e201f13",
   "metadata": {},
   "outputs": [],
   "source": [
    "# Initialize the Bayesian Search CV\n",
    "bayes_search = BayesSearchCV(\n",
    "    estimator=RandomForestClassifier(random_state=42),\n",
    "    search_spaces=param_space,\n",
    "    n_iter=30,\n",
    "    cv=3,\n",
    "    n_jobs=-1\n",
    ")"
   ]
  },
  {
   "cell_type": "code",
   "execution_count": 7,
   "id": "ef48be8f",
   "metadata": {},
   "outputs": [
    {
     "name": "stderr",
     "output_type": "stream",
     "text": [
      "C:\\Users\\admin\\anaconda3\\lib\\site-packages\\skopt\\optimizer\\optimizer.py:449: UserWarning: The objective has been evaluated at this point before.\n",
      "  warnings.warn(\"The objective has been evaluated \"\n",
      "C:\\Users\\admin\\anaconda3\\lib\\site-packages\\skopt\\optimizer\\optimizer.py:449: UserWarning: The objective has been evaluated at this point before.\n",
      "  warnings.warn(\"The objective has been evaluated \"\n",
      "C:\\Users\\admin\\anaconda3\\lib\\site-packages\\skopt\\optimizer\\optimizer.py:449: UserWarning: The objective has been evaluated at this point before.\n",
      "  warnings.warn(\"The objective has been evaluated \"\n",
      "C:\\Users\\admin\\anaconda3\\lib\\site-packages\\skopt\\optimizer\\optimizer.py:449: UserWarning: The objective has been evaluated at this point before.\n",
      "  warnings.warn(\"The objective has been evaluated \"\n",
      "C:\\Users\\admin\\anaconda3\\lib\\site-packages\\skopt\\optimizer\\optimizer.py:449: UserWarning: The objective has been evaluated at this point before.\n",
      "  warnings.warn(\"The objective has been evaluated \"\n"
     ]
    },
    {
     "data": {
      "text/plain": [
       "BayesSearchCV(cv=3, estimator=RandomForestClassifier(random_state=42),\n",
       "              n_iter=30, n_jobs=-1,\n",
       "              search_spaces={'max_depth': Integer(low=1, high=20, prior='uniform', transform='normalize'),\n",
       "                             'n_estimators': Integer(low=100, high=300, prior='uniform', transform='normalize')})"
      ]
     },
     "execution_count": 7,
     "metadata": {},
     "output_type": "execute_result"
    }
   ],
   "source": [
    "# Fit the Bayesian Search CV on the subset\n",
    "bayes_search.fit(X_train_subset, y_train_subset)"
   ]
  },
  {
   "cell_type": "code",
   "execution_count": 8,
   "id": "77ed9603",
   "metadata": {},
   "outputs": [],
   "source": [
    "# Get the best model and its parameters\n",
    "best_model = bayes_search.best_estimator_\n",
    "best_params = bayes_search.best_params_"
   ]
  },
  {
   "cell_type": "code",
   "execution_count": 9,
   "id": "ce511dad",
   "metadata": {},
   "outputs": [
    {
     "name": "stdout",
     "output_type": "stream",
     "text": [
      "Best Model Classification Report:\n",
      "              precision    recall  f1-score   support\n",
      "\n",
      "         0.0       0.50      0.84      0.63     10079\n",
      "         1.0       0.50      0.16      0.24      9921\n",
      "\n",
      "    accuracy                           0.50     20000\n",
      "   macro avg       0.50      0.50      0.43     20000\n",
      "weighted avg       0.50      0.50      0.44     20000\n",
      "\n"
     ]
    }
   ],
   "source": [
    "# Train and evaluate the best model on the full test set\n",
    "best_model.fit(X_train_scaled, y_train)\n",
    "y_pred_best = best_model.predict(X_test_scaled)\n",
    "classification_rep_best = classification_report(y_test, y_pred_best)\n",
    "print(f\"Best Model Classification Report:\\n{classification_rep_best}\")"
   ]
  },
  {
   "cell_type": "code",
   "execution_count": 10,
   "id": "74606c54",
   "metadata": {},
   "outputs": [
    {
     "data": {
      "image/png": "[encoded data removed]",
      "text/plain": [
       "<Figure size 720x432 with 1 Axes>"
      ]
     },
     "metadata": {
      "needs_background": "light"
     },
     "output_type": "display_data"
    }
   ],
   "source": [
    "# Visualize Feature Importance\n",
    "feature_importance = best_model.feature_importances_\n",
    "feature_names = X.columns\n",
    "plt.figure(figsize=(10, 6))\n",
    "sns.barplot(x=feature_importance, y=feature_names)\n",
    "plt.title('Feature Importance')\n",
    "plt.xlabel('Importance')\n",
    "plt.ylabel('Feature')\n",
    "plt.xticks(rotation=45)\n",
    "plt.show()"
   ]
  },
  {
   "cell_type": "code",
   "execution_count": 14,
   "id": "a2e6c06b",
   "metadata": {},
   "outputs": [
    {
     "data": {
      "image/png": "[encoded data removed]",
      "text/plain": [
       "<Figure size 576x432 with 2 Axes>"
      ]
     },
     "metadata": {
      "needs_background": "light"
     },
     "output_type": "display_data"
    }
   ],
   "source": [
    "# Visualize Confusion Matrix\n",
    "plt.figure(figsize=(8, 6))\n",
    "cm = confusion_matrix(y_test, y_pred_best)\n",
    "sns.heatmap(cm, annot=True, cmap='Blues', fmt='d')\n",
    "plt.title('Confusion Matrix')\n",
    "plt.xlabel('Predicted')\n",
    "plt.ylabel('True')\n",
    "plt.show()"
   ]
  },
  {
   "cell_type": "code",
   "execution_count": 15,
   "id": "ed415017",
   "metadata": {},
   "outputs": [],
   "source": [
    "# Model Deployment using Flask\n",
    "app = Flask(__name__)"
   ]
  },
  {
   "cell_type": "code",
   "execution_count": 16,
   "id": "10d030e5",
   "metadata": {},
   "outputs": [],
   "source": [
    "@app.route('/predict', methods=['POST'])\n",
    "def predict():\n",
    "    data = request.get_json()\n",
    "    features = np.array(data['features']).reshape(1, -1)\n",
    "    scaled_features = scaler.transform(features)\n",
    "    prediction = best_model.predict(scaled_features)[0]\n",
    "    return jsonify({'prediction': prediction})"
   ]
  }
 ],
 "metadata": {
  "kernelspec": {
   "display_name": "Python 3 (ipykernel)",
   "language": "python",
   "name": "python3"
  },
  "language_info": {
   "codemirror_mode": {
    "name": "ipython",
    "version": 3
   },
   "file_extension": ".py",
   "mimetype": "text/x-python",
   "name": "python",
   "nbconvert_exporter": "python",
   "pygments_lexer": "ipython3",
   "version": "3.9.7"
  }
 },
 "nbformat": 4,
 "nbformat_minor": 5
}
